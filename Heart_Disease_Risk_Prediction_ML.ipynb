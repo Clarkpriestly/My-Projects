{
  "metadata": {
    "kernelspec": {
      "language": "python",
      "display_name": "Python 3",
      "name": "python3"
    },
    "language_info": {
      "name": "python",
      "version": "3.10.12",
      "mimetype": "text/x-python",
      "codemirror_mode": {
        "name": "ipython",
        "version": 3
      },
      "pygments_lexer": "ipython3",
      "nbconvert_exporter": "python",
      "file_extension": ".py"
    },
    "kaggle": {
      "accelerator": "none",
      "dataSources": [
        {
          "sourceId": 10689451,
          "sourceType": "datasetVersion",
          "datasetId": 6620848
        }
      ],
      "dockerImageVersionId": 30918,
      "isInternetEnabled": true,
      "language": "python",
      "sourceType": "notebook",
      "isGpuEnabled": false
    },
    "colab": {
      "name": "Heart Disease Risk Prediction-ML.ipynb",
      "provenance": [],
      "include_colab_link": true
    }
  },
  "nbformat_minor": 0,
  "nbformat": 4,
  "cells": [
    {
      "cell_type": "markdown",
      "metadata": {
        "id": "view-in-github",
        "colab_type": "text"
      },
      "source": [
        "<a href=\"https://colab.research.google.com/github/Clarkpriestly/My-Projects/blob/main/Heart_Disease_Risk_Prediction_ML.ipynb\" target=\"_parent\"><img src=\"https://colab.research.google.com/assets/colab-badge.svg\" alt=\"Open In Colab\"/></a>"
      ]
    },
    {
      "source": [
        "# IMPORTANT: RUN THIS CELL IN ORDER TO IMPORT YOUR KAGGLE DATA SOURCES,\n",
        "# THEN FEEL FREE TO DELETE THIS CELL.\n",
        "# NOTE: THIS NOTEBOOK ENVIRONMENT DIFFERS FROM KAGGLE'S PYTHON\n",
        "# ENVIRONMENT SO THERE MAY BE MISSING LIBRARIES USED BY YOUR\n",
        "# NOTEBOOK.\n",
        "import kagglehub\n",
        "mahatiratusher_heart_disease_risk_prediction_dataset_path = kagglehub.dataset_download('mahatiratusher/heart-disease-risk-prediction-dataset')\n",
        "\n",
        "print('Data source import complete.')\n"
      ],
      "metadata": {
        "id": "Nmw1aXvj0AqL"
      },
      "cell_type": "code",
      "outputs": [],
      "execution_count": null
    },
    {
      "cell_type": "code",
      "source": [
        "# This Python 3 environment comes with many helpful analytics libraries installed\n",
        "# It is defined by the kaggle/python Docker image: https://github.com/kaggle/docker-python\n",
        "# For example, here's several helpful packages to load\n",
        "\n",
        "import numpy as np # linear algebra\n",
        "import pandas as pd # data processing, CSV file I/O (e.g. pd.read_csv)\n",
        "import matplotlib.pyplot as plt\n",
        "import seaborn as sns\n",
        "from sklearn.model_selection import train_test_split\n",
        "from sklearn.metrics import classification_report,ConfusionMatrixDisplay, confusion_matrix\n",
        "\n",
        "# Input data files are available in the read-only \"../input/\" directory\n",
        "# For example, running this (by clicking run or pressing Shift+Enter) will list all files under the input directory\n",
        "\n",
        "import os\n",
        "for dirname, _, filenames in os.walk('/kaggle/input'):\n",
        "    for filename in filenames:\n",
        "        print(os.path.join(dirname, filename))\n",
        "\n",
        "# You can write up to 20GB to the current directory (/kaggle/working/) that gets preserved as output when you create a version using \"Save & Run All\"\n",
        "# You can also write temporary files to /kaggle/temp/, but they won't be saved outside of the current session"
      ],
      "metadata": {
        "_uuid": "8f2839f25d086af736a60e9eeb907d3b93b6e0e5",
        "_cell_guid": "b1076dfc-b9ad-4769-8c92-a6c4dae69d19",
        "trusted": true,
        "execution": {
          "iopub.status.busy": "2025-04-30T15:10:21.991295Z",
          "iopub.execute_input": "2025-04-30T15:10:21.991657Z",
          "iopub.status.idle": "2025-04-30T15:10:25.173106Z",
          "shell.execute_reply.started": "2025-04-30T15:10:21.991622Z",
          "shell.execute_reply": "2025-04-30T15:10:25.171839Z"
        },
        "id": "RaBvoXVT0AqP",
        "outputId": "e33c2bbe-5146-4be9-81cd-277a2923776c"
      },
      "outputs": [
        {
          "name": "stdout",
          "text": "/kaggle/input/heart-disease-risk-prediction-dataset/heart_disease_risk_dataset_earlymed.xls\n/kaggle/input/heart-disease-risk-prediction-dataset/heart_disease_risk_dataset_earlymed.csv\n",
          "output_type": "stream"
        }
      ],
      "execution_count": null
    },
    {
      "cell_type": "code",
      "source": [
        "# Loading in the data\n",
        "heart_disease = pd.read_csv(\"/kaggle/input/heart-disease-risk-prediction-dataset/heart_disease_risk_dataset_earlymed.csv\")\n",
        "heart_disease.head()"
      ],
      "metadata": {
        "trusted": true,
        "execution": {
          "iopub.status.busy": "2025-04-30T15:10:25.17432Z",
          "iopub.execute_input": "2025-04-30T15:10:25.174944Z",
          "iopub.status.idle": "2025-04-30T15:10:25.449126Z",
          "shell.execute_reply.started": "2025-04-30T15:10:25.174905Z",
          "shell.execute_reply": "2025-04-30T15:10:25.44794Z"
        },
        "id": "zG_RgkxR0AqR",
        "outputId": "a0f57f19-0323-4b9c-cef7-f042f9c8fa07"
      },
      "outputs": [
        {
          "execution_count": 2,
          "output_type": "execute_result",
          "data": {
            "text/plain": "   Chest_Pain  Shortness_of_Breath  Fatigue  Palpitations  Dizziness  \\\n0         0.0                  0.0      0.0           1.0        0.0   \n1         0.0                  1.0      0.0           1.0        0.0   \n2         1.0                  0.0      0.0           1.0        0.0   \n3         1.0                  1.0      0.0           1.0        0.0   \n4         0.0                  0.0      1.0           0.0        1.0   \n\n   Swelling  Pain_Arms_Jaw_Back  Cold_Sweats_Nausea  High_BP  \\\n0       0.0                 0.0                 0.0      0.0   \n1       0.0                 0.0                 0.0      1.0   \n2       0.0                 0.0                 0.0      1.0   \n3       0.0                 1.0                 1.0      1.0   \n4       0.0                 0.0                 0.0      0.0   \n\n   High_Cholesterol  Diabetes  Smoking  Obesity  Sedentary_Lifestyle  \\\n0               0.0       0.0      1.0      0.0                  1.0   \n1               0.0       0.0      1.0      1.0                  0.0   \n2               1.0       0.0      1.0      1.0                  1.0   \n3               0.0       1.0      1.0      0.0                  1.0   \n4               0.0       1.0      0.0      0.0                  0.0   \n\n   Family_History  Chronic_Stress  Gender   Age  Heart_Risk  \n0             0.0             0.0     0.0  48.0         0.0  \n1             0.0             0.0     0.0  46.0         0.0  \n2             0.0             0.0     1.0  66.0         0.0  \n3             1.0             1.0     1.0  60.0         1.0  \n4             0.0             0.0     0.0  69.0         0.0  ",
            "text/html": "<div>\n<style scoped>\n    .dataframe tbody tr th:only-of-type {\n        vertical-align: middle;\n    }\n\n    .dataframe tbody tr th {\n        vertical-align: top;\n    }\n\n    .dataframe thead th {\n        text-align: right;\n    }\n</style>\n<table border=\"1\" class=\"dataframe\">\n  <thead>\n    <tr style=\"text-align: right;\">\n      <th></th>\n      <th>Chest_Pain</th>\n      <th>Shortness_of_Breath</th>\n      <th>Fatigue</th>\n      <th>Palpitations</th>\n      <th>Dizziness</th>\n      <th>Swelling</th>\n      <th>Pain_Arms_Jaw_Back</th>\n      <th>Cold_Sweats_Nausea</th>\n      <th>High_BP</th>\n      <th>High_Cholesterol</th>\n      <th>Diabetes</th>\n      <th>Smoking</th>\n      <th>Obesity</th>\n      <th>Sedentary_Lifestyle</th>\n      <th>Family_History</th>\n      <th>Chronic_Stress</th>\n      <th>Gender</th>\n      <th>Age</th>\n      <th>Heart_Risk</th>\n    </tr>\n  </thead>\n  <tbody>\n    <tr>\n      <th>0</th>\n      <td>0.0</td>\n      <td>0.0</td>\n      <td>0.0</td>\n      <td>1.0</td>\n      <td>0.0</td>\n      <td>0.0</td>\n      <td>0.0</td>\n      <td>0.0</td>\n      <td>0.0</td>\n      <td>0.0</td>\n      <td>0.0</td>\n      <td>1.0</td>\n      <td>0.0</td>\n      <td>1.0</td>\n      <td>0.0</td>\n      <td>0.0</td>\n      <td>0.0</td>\n      <td>48.0</td>\n      <td>0.0</td>\n    </tr>\n    <tr>\n      <th>1</th>\n      <td>0.0</td>\n      <td>1.0</td>\n      <td>0.0</td>\n      <td>1.0</td>\n      <td>0.0</td>\n      <td>0.0</td>\n      <td>0.0</td>\n      <td>0.0</td>\n      <td>1.0</td>\n      <td>0.0</td>\n      <td>0.0</td>\n      <td>1.0</td>\n      <td>1.0</td>\n      <td>0.0</td>\n      <td>0.0</td>\n      <td>0.0</td>\n      <td>0.0</td>\n      <td>46.0</td>\n      <td>0.0</td>\n    </tr>\n    <tr>\n      <th>2</th>\n      <td>1.0</td>\n      <td>0.0</td>\n      <td>0.0</td>\n      <td>1.0</td>\n      <td>0.0</td>\n      <td>0.0</td>\n      <td>0.0</td>\n      <td>0.0</td>\n      <td>1.0</td>\n      <td>1.0</td>\n      <td>0.0</td>\n      <td>1.0</td>\n      <td>1.0</td>\n      <td>1.0</td>\n      <td>0.0</td>\n      <td>0.0</td>\n      <td>1.0</td>\n      <td>66.0</td>\n      <td>0.0</td>\n    </tr>\n    <tr>\n      <th>3</th>\n      <td>1.0</td>\n      <td>1.0</td>\n      <td>0.0</td>\n      <td>1.0</td>\n      <td>0.0</td>\n      <td>0.0</td>\n      <td>1.0</td>\n      <td>1.0</td>\n      <td>1.0</td>\n      <td>0.0</td>\n      <td>1.0</td>\n      <td>1.0</td>\n      <td>0.0</td>\n      <td>1.0</td>\n      <td>1.0</td>\n      <td>1.0</td>\n      <td>1.0</td>\n      <td>60.0</td>\n      <td>1.0</td>\n    </tr>\n    <tr>\n      <th>4</th>\n      <td>0.0</td>\n      <td>0.0</td>\n      <td>1.0</td>\n      <td>0.0</td>\n      <td>1.0</td>\n      <td>0.0</td>\n      <td>0.0</td>\n      <td>0.0</td>\n      <td>0.0</td>\n      <td>0.0</td>\n      <td>1.0</td>\n      <td>0.0</td>\n      <td>0.0</td>\n      <td>0.0</td>\n      <td>0.0</td>\n      <td>0.0</td>\n      <td>0.0</td>\n      <td>69.0</td>\n      <td>0.0</td>\n    </tr>\n  </tbody>\n</table>\n</div>"
          },
          "metadata": {}
        }
      ],
      "execution_count": null
    },
    {
      "cell_type": "code",
      "source": [
        "# Checking for null or empty values and the shape of the dataset\n",
        "print(heart_disease.isnull().values.any())\n",
        "heart_disease.shape"
      ],
      "metadata": {
        "trusted": true,
        "execution": {
          "iopub.status.busy": "2025-04-30T15:10:25.450357Z",
          "iopub.execute_input": "2025-04-30T15:10:25.450784Z",
          "iopub.status.idle": "2025-04-30T15:10:25.462624Z",
          "shell.execute_reply.started": "2025-04-30T15:10:25.450748Z",
          "shell.execute_reply": "2025-04-30T15:10:25.461529Z"
        },
        "id": "mEo79AcO0AqS",
        "outputId": "752c434d-46c5-4f91-cc75-49615356b46c"
      },
      "outputs": [
        {
          "name": "stdout",
          "text": "False\n",
          "output_type": "stream"
        },
        {
          "execution_count": 3,
          "output_type": "execute_result",
          "data": {
            "text/plain": "(70000, 19)"
          },
          "metadata": {}
        }
      ],
      "execution_count": null
    },
    {
      "cell_type": "code",
      "source": [
        "# Selecting target and features variable from dataset\n",
        "features = heart_disease.drop('Heart_Risk', axis = 1)\n",
        "target = heart_disease['Heart_Risk']\n",
        "\n",
        "# Splitting dataset into test and train datasets based on the 80% train, 20% test rule\n",
        "X_train, X_test, y_train, y_test = train_test_split(features, target,\n",
        "                                                    test_size = 0.2,\n",
        "                                                    random_state = 42)"
      ],
      "metadata": {
        "trusted": true,
        "execution": {
          "iopub.status.busy": "2025-04-30T15:10:25.463808Z",
          "iopub.execute_input": "2025-04-30T15:10:25.464181Z",
          "iopub.status.idle": "2025-04-30T15:10:25.506845Z",
          "shell.execute_reply.started": "2025-04-30T15:10:25.464146Z",
          "shell.execute_reply": "2025-04-30T15:10:25.505779Z"
        },
        "id": "wllhF4dd0AqT"
      },
      "outputs": [],
      "execution_count": null
    },
    {
      "cell_type": "markdown",
      "source": [
        "NORMALIZATION OF FEATURES VARIABLE USING THE Z-SCORE STANDARDIZATION METHOD OF VARIABLES TO A MEAN OF 0 AND A STANDARD DEVIATION OF 1"
      ],
      "metadata": {
        "id": "xeD8zTKP0AqT"
      }
    },
    {
      "cell_type": "code",
      "source": [
        "from sklearn.preprocessing import StandardScaler\n",
        "\n",
        "# Standardizing the features variable\n",
        "scaler = StandardScaler()\n",
        "X_train_scaled = scaler.fit_transform(X_train)\n",
        "X_test_scaled = scaler.transform(X_test)"
      ],
      "metadata": {
        "trusted": true,
        "execution": {
          "iopub.status.busy": "2025-04-30T15:10:25.507815Z",
          "iopub.execute_input": "2025-04-30T15:10:25.508175Z",
          "iopub.status.idle": "2025-04-30T15:10:25.577031Z",
          "shell.execute_reply.started": "2025-04-30T15:10:25.508142Z",
          "shell.execute_reply": "2025-04-30T15:10:25.575932Z"
        },
        "id": "hSbm4WAO0AqV"
      },
      "outputs": [],
      "execution_count": null
    },
    {
      "cell_type": "markdown",
      "source": [
        "SELECTING THE BEST CONTRIBUTING FEATURES TO THE TARGET VARIABLE USING ANOVA. VARIABLES WITH HIGH F-SCORES CONTRIBUTE THE MOST. SELECTING k NUMBER OF FEATURES WITH THE HIGHEST F-SCORES."
      ],
      "metadata": {
        "id": "ircxQuGg0AqW"
      }
    },
    {
      "cell_type": "code",
      "source": [
        "from sklearn.feature_selection import SelectKBest, f_classif\n",
        "\n",
        "# Performing ANOVA to select the top K features\n",
        "k = 9\n",
        "anova_select_feature = SelectKBest(score_func = f_classif, k = k)\n",
        "X_train_selected = anova_select_feature.fit_transform(X_train_scaled, y_train)\n",
        "X_test_selected = anova_select_feature.transform(X_test_scaled)\n",
        "\n",
        "# Retrieve anova scores for all tests\n",
        "anova_scores = anova_select_feature.scores_\n",
        "\n",
        "# Mapping features to their anova F-scores\n",
        "feature_names = features.columns\n",
        "anova_results = dict(zip(feature_names, anova_scores))\n",
        "\n",
        "# Display anova results\n",
        "print(\"ANOVA F-scores for Features:\")\n",
        "for feature, score in anova_results.items():\n",
        "    print(f\"{feature}: {score:.2f}\")\n",
        "\n",
        "# Selected feature indices and names\n",
        "selected_feature_indices = anova_select_feature.get_support(indices=True)\n",
        "selected_features = feature_names[selected_feature_indices]\n",
        "print(\"\\nSelected Features (Top k):\", list(selected_features))"
      ],
      "metadata": {
        "trusted": true,
        "execution": {
          "iopub.status.busy": "2025-04-30T15:10:25.579026Z",
          "iopub.execute_input": "2025-04-30T15:10:25.579337Z",
          "iopub.status.idle": "2025-04-30T15:10:25.893437Z",
          "shell.execute_reply.started": "2025-04-30T15:10:25.579312Z",
          "shell.execute_reply": "2025-04-30T15:10:25.892209Z"
        },
        "id": "200gosof0AqX",
        "outputId": "523884d6-8319-4899-8830-0174124dd9a6"
      },
      "outputs": [
        {
          "name": "stdout",
          "text": "ANOVA F-scores for Features:\nChest_Pain: 31161.34\nShortness_of_Breath: 31358.66\nFatigue: 31546.21\nPalpitations: 30821.25\nDizziness: 31382.39\nSwelling: 31335.31\nPain_Arms_Jaw_Back: 31499.29\nCold_Sweats_Nausea: 31635.56\nHigh_BP: 11045.77\nHigh_Cholesterol: 10927.36\nDiabetes: 10401.19\nSmoking: 10589.69\nObesity: 10702.66\nSedentary_Lifestyle: 11052.71\nFamily_History: 10596.53\nChronic_Stress: 10752.83\nGender: 5373.82\nAge: 32349.39\n\nSelected Features (Top k): ['Chest_Pain', 'Shortness_of_Breath', 'Fatigue', 'Palpitations', 'Dizziness', 'Swelling', 'Pain_Arms_Jaw_Back', 'Cold_Sweats_Nausea', 'Age']\n",
          "output_type": "stream"
        }
      ],
      "execution_count": null
    },
    {
      "cell_type": "markdown",
      "source": [
        "TRAINING THE MACHINE LEARNING MODELS"
      ],
      "metadata": {
        "id": "GFkzHps90AqY"
      }
    },
    {
      "cell_type": "code",
      "source": [
        "#Logistic Regression\n",
        "from sklearn.linear_model import LogisticRegression\n",
        "\n",
        "lr_model = LogisticRegression()\n",
        "lr_model.fit(X_train_scaled,y_train)\n",
        "\n",
        "y_pred_lr = lr_model.predict(X_test_scaled)\n",
        "\n",
        "print(classification_report(y_test, y_pred_lr))"
      ],
      "metadata": {
        "trusted": true,
        "execution": {
          "iopub.status.busy": "2025-04-30T15:10:25.89467Z",
          "iopub.execute_input": "2025-04-30T15:10:25.895022Z",
          "iopub.status.idle": "2025-04-30T15:10:26.0393Z",
          "shell.execute_reply.started": "2025-04-30T15:10:25.894995Z",
          "shell.execute_reply": "2025-04-30T15:10:26.038191Z"
        },
        "id": "W6SS2-g10AqY",
        "outputId": "288e7702-066e-4908-c9ba-ce533879a842"
      },
      "outputs": [
        {
          "name": "stdout",
          "text": "              precision    recall  f1-score   support\n\n         0.0       0.99      0.99      0.99      6998\n         1.0       0.99      0.99      0.99      7002\n\n    accuracy                           0.99     14000\n   macro avg       0.99      0.99      0.99     14000\nweighted avg       0.99      0.99      0.99     14000\n\n",
          "output_type": "stream"
        }
      ],
      "execution_count": null
    },
    {
      "cell_type": "code",
      "source": [
        "#Decision Tree\n",
        "from sklearn.tree import DecisionTreeClassifier\n",
        "\n",
        "dt_model = DecisionTreeClassifier(random_state = 42)\n",
        "dt_model.fit(X_train_scaled, y_train)\n",
        "y_pred_dt = dt_model.predict(X_test_scaled)\n",
        "\n",
        "print(classification_report(y_test, y_pred_dt))"
      ],
      "metadata": {
        "trusted": true,
        "execution": {
          "iopub.status.busy": "2025-04-30T15:10:26.040274Z",
          "iopub.execute_input": "2025-04-30T15:10:26.040563Z",
          "iopub.status.idle": "2025-04-30T15:10:26.275328Z",
          "shell.execute_reply.started": "2025-04-30T15:10:26.040539Z",
          "shell.execute_reply": "2025-04-30T15:10:26.2742Z"
        },
        "id": "_YOQu5MQ0AqZ",
        "outputId": "caab06ea-16cf-46fd-88ef-d904245a5ae7"
      },
      "outputs": [
        {
          "name": "stdout",
          "text": "              precision    recall  f1-score   support\n\n         0.0       0.98      0.98      0.98      6998\n         1.0       0.98      0.98      0.98      7002\n\n    accuracy                           0.98     14000\n   macro avg       0.98      0.98      0.98     14000\nweighted avg       0.98      0.98      0.98     14000\n\n",
          "output_type": "stream"
        }
      ],
      "execution_count": null
    },
    {
      "cell_type": "code",
      "source": [
        "#Random Forest\n",
        "from sklearn.ensemble import RandomForestClassifier\n",
        "\n",
        "rf_model = RandomForestClassifier()\n",
        "rf_model.fit(X_train_scaled, y_train)\n",
        "\n",
        "y_pred_rf = rf_model.predict(X_test_scaled)\n",
        "print(classification_report(y_test, y_pred_rf))"
      ],
      "metadata": {
        "trusted": true,
        "execution": {
          "iopub.status.busy": "2025-04-30T15:10:26.276239Z",
          "iopub.execute_input": "2025-04-30T15:10:26.27657Z",
          "iopub.status.idle": "2025-04-30T15:10:30.040251Z",
          "shell.execute_reply.started": "2025-04-30T15:10:26.276536Z",
          "shell.execute_reply": "2025-04-30T15:10:30.039252Z"
        },
        "id": "7Nns6MCM0Aqb",
        "outputId": "f563ede6-5eff-43b9-98f4-714253d17f5b"
      },
      "outputs": [
        {
          "name": "stdout",
          "text": "              precision    recall  f1-score   support\n\n         0.0       0.99      0.99      0.99      6998\n         1.0       0.99      0.99      0.99      7002\n\n    accuracy                           0.99     14000\n   macro avg       0.99      0.99      0.99     14000\nweighted avg       0.99      0.99      0.99     14000\n\n",
          "output_type": "stream"
        }
      ],
      "execution_count": null
    },
    {
      "cell_type": "markdown",
      "source": [
        "# Confusion Matrix using the test data\n",
        "Comparing the different models' abilities to predict labels rightfully"
      ],
      "metadata": {
        "id": "ZIF19PCa0Aqd"
      }
    },
    {
      "cell_type": "code",
      "source": [
        "# Create subplots\n",
        "fig, axes = plt.subplots(1, 3, figsize=(18, 5))\n",
        "\n",
        "# Model names and predictions\n",
        "models = [\"Logistic Regression\", \"Decision Tree\", \"Random Forest\"]\n",
        "y_preds = [y_pred_lr, y_pred_dt, y_pred_rf]\n",
        "\n",
        "# Plot each confusion matrix\n",
        "for i, (model, y_pred) in enumerate(zip(models, y_preds)):\n",
        "    disp = ConfusionMatrixDisplay(confusion_matrix(y_test, y_pred))\n",
        "    disp.plot(ax=axes[i], cmap= \"Blues\", values_format=\"d\")\n",
        "    axes[i].set_title(model)\n",
        "\n",
        "plt.tight_layout()\n",
        "plt.show()"
      ],
      "metadata": {
        "trusted": true,
        "execution": {
          "iopub.status.busy": "2025-04-30T15:10:30.041123Z",
          "iopub.execute_input": "2025-04-30T15:10:30.041428Z",
          "iopub.status.idle": "2025-04-30T15:10:30.901862Z",
          "shell.execute_reply.started": "2025-04-30T15:10:30.041392Z",
          "shell.execute_reply": "2025-04-30T15:10:30.900781Z"
        },
        "id": "e6QLHC5d0Aqd",
        "outputId": "51f2e929-dc3e-49ff-fbcb-52766e9cf056"
      },
      "outputs": [
        {
          "output_type": "display_data",
          "data": {
            "text/plain": "<Figure size 1800x500 with 6 Axes>",
            "image/png": "[encoded data removed]"
          },
          "metadata": {}
        }
      ],
      "execution_count": null
    },
    {
      "cell_type": "markdown",
      "source": [
        "From our results, we can see that though all three models had high accuracies, there are significant differences in how correctly the models predicted the labels i.e Heart risk. RandomForest predicted 6945 labels as truelly not having Heart risk (0) meanwhile LogisticRegression predicted 6937, and DecisionTree predicted 6869 for the True Positives. The DecisionTree performed badly amongst the others since it had high numbers for the False Positive (129) and False Negative (140)"
      ],
      "metadata": {
        "id": "FTl8pf_U0Aqe"
      }
    },
    {
      "cell_type": "markdown",
      "source": [
        "Author: Ireneaus Nyame"
      ],
      "metadata": {
        "id": "xulh_TDp0O7b"
      }
    }
  ]
}